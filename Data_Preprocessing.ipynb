{
  "nbformat": 4,
  "nbformat_minor": 0,
  "metadata": {
    "colab": {
      "provenance": []
    },
    "kernelspec": {
      "name": "python3",
      "display_name": "Python 3"
    },
    "language_info": {
      "name": "python"
    }
  },
  "cells": [
    {
      "cell_type": "code",
      "source": [
        "import pandas as pd\n",
        "\n",
        "file_path = r\"/content/Glassdoor_Salary.csv\"\n",
        "\n",
        "# Load the CSV file\n",
        "dataset = pd.read_csv(file_path)\n",
        "\n",
        "# Display the first few rows of the dataset\n",
        "print(dataset.head())"
      ],
      "metadata": {
        "colab": {
          "base_uri": "https://localhost:8080/"
        },
        "id": "7JBmbKMUzQul",
        "outputId": "a507517b-d44b-44bb-fbb9-e192c2969a0d"
      },
      "execution_count": 17,
      "outputs": [
        {
          "output_type": "stream",
          "name": "stdout",
          "text": [
            "                   Job Title              Salary Estimate  \\\n",
            "0             Data Scientist   $53K-$91K (Glassdoor est.)   \n",
            "1  Healthcare Data Scientist  $63K-$112K (Glassdoor est.)   \n",
            "2             Data Scientist   $80K-$90K (Glassdoor est.)   \n",
            "3             Data Scientist   $56K-$97K (Glassdoor est.)   \n",
            "4             Data Scientist  $86K-$143K (Glassdoor est.)   \n",
            "\n",
            "                                     Job Description  Rating  \\\n",
            "0  Data Scientist\\nLocation: Albuquerque, NM\\nEdu...     3.8   \n",
            "1  What You Will Do:\\n\\nI. General Summary\\n\\nThe...     3.4   \n",
            "2  KnowBe4, Inc. is a high growth information sec...     4.8   \n",
            "3  *Organization and Job ID**\\nJob ID: 310709\\n\\n...     3.8   \n",
            "4  Data Scientist\\nAffinity Solutions / Marketing...     2.9   \n",
            "\n",
            "                                 Company Name         Location  \\\n",
            "0                      Tecolote Research\\n3.8  Albuquerque, NM   \n",
            "1  University of Maryland Medical System\\n3.4    Linthicum, MD   \n",
            "2                                KnowBe4\\n4.8   Clearwater, FL   \n",
            "3                                   PNNL\\n3.8     Richland, WA   \n",
            "4                     Affinity Solutions\\n2.9     New York, NY   \n",
            "\n",
            "     Headquarters                    Size  Founded   Type of ownership  ...  \\\n",
            "0      Goleta, CA   501 to 1000 employees     1973   Company - Private  ...   \n",
            "1   Baltimore, MD        10000+ employees     1984  Other Organization  ...   \n",
            "2  Clearwater, FL   501 to 1000 employees     2010   Company - Private  ...   \n",
            "3    Richland, WA  1001 to 5000 employees     1965          Government  ...   \n",
            "4    New York, NY     51 to 200 employees     1998   Company - Private  ...   \n",
            "\n",
            "  avg_salary                              company_txt job_state same_state  \\\n",
            "0       72.0                      Tecolote Research\\n        NM          0   \n",
            "1       87.5  University of Maryland Medical System\\n        MD          0   \n",
            "2       85.0                                KnowBe4\\n        FL          1   \n",
            "3       76.5                                   PNNL\\n        WA          1   \n",
            "4      114.5                     Affinity Solutions\\n        NY          1   \n",
            "\n",
            "   age  python_yn  R_yn  spark  aws excel  \n",
            "0   47          1     0      0    0     1  \n",
            "1   36          1     0      0    0     0  \n",
            "2   10          1     0      1    0     1  \n",
            "3   55          1     0      0    0     0  \n",
            "4   22          1     0      0    0     1  \n",
            "\n",
            "[5 rows x 28 columns]\n"
          ]
        }
      ]
    },
    {
      "cell_type": "code",
      "source": [
        "# List of unwanted columns to delete\n",
        "columns_to_delete = [\n",
        "    \"Salary Estimate\",\n",
        "    \"Job Description\",\n",
        "    \"Sector\",\n",
        "    \"Competitors\",\n",
        "    \"hourly\",\n",
        "    \"employer_provided\",\n",
        "    \"company_txt\",\n",
        "    \"job_state\",\n",
        "    \"same_state\"\n",
        "]\n",
        "\n",
        "# Drop the columns\n",
        "dataset = dataset.drop(columns=columns_to_delete)\n",
        "\n",
        "# Display the first few rows of the updated dataset\n",
        "print(dataset.head())"
      ],
      "metadata": {
        "colab": {
          "base_uri": "https://localhost:8080/"
        },
        "id": "9GNDpiYtzheB",
        "outputId": "b71bc041-bbdb-4f3a-e56c-85760332644a"
      },
      "execution_count": 18,
      "outputs": [
        {
          "output_type": "stream",
          "name": "stdout",
          "text": [
            "                   Job Title  Rating  \\\n",
            "0             Data Scientist     3.8   \n",
            "1  Healthcare Data Scientist     3.4   \n",
            "2             Data Scientist     4.8   \n",
            "3             Data Scientist     3.8   \n",
            "4             Data Scientist     2.9   \n",
            "\n",
            "                                 Company Name         Location  \\\n",
            "0                      Tecolote Research\\n3.8  Albuquerque, NM   \n",
            "1  University of Maryland Medical System\\n3.4    Linthicum, MD   \n",
            "2                                KnowBe4\\n4.8   Clearwater, FL   \n",
            "3                                   PNNL\\n3.8     Richland, WA   \n",
            "4                     Affinity Solutions\\n2.9     New York, NY   \n",
            "\n",
            "     Headquarters                    Size  Founded   Type of ownership  \\\n",
            "0      Goleta, CA   501 to 1000 employees     1973   Company - Private   \n",
            "1   Baltimore, MD        10000+ employees     1984  Other Organization   \n",
            "2  Clearwater, FL   501 to 1000 employees     2010   Company - Private   \n",
            "3    Richland, WA  1001 to 5000 employees     1965          Government   \n",
            "4    New York, NY     51 to 200 employees     1998   Company - Private   \n",
            "\n",
            "                           Industry                           Revenue  \\\n",
            "0               Aerospace & Defense         $50 to $100 million (USD)   \n",
            "1  Health Care Services & Hospitals            $2 to $5 billion (USD)   \n",
            "2                 Security Services        $100 to $500 million (USD)   \n",
            "3                            Energy  $500 million to $1 billion (USD)   \n",
            "4           Advertising & Marketing          Unknown / Non-Applicable   \n",
            "\n",
            "   min_salary  max_salary  avg_salary  age  python_yn  R_yn  spark  aws  excel  \n",
            "0          53          91        72.0   47          1     0      0    0      1  \n",
            "1          63         112        87.5   36          1     0      0    0      0  \n",
            "2          80          90        85.0   10          1     0      1    0      1  \n",
            "3          56          97        76.5   55          1     0      0    0      0  \n",
            "4          86         143       114.5   22          1     0      0    0      1  \n"
          ]
        }
      ]
    },
    {
      "cell_type": "code",
      "source": [
        "# Check for duplicate records\n",
        "duplicate_records = dataset.duplicated()\n",
        "\n",
        "# Display the number of duplicate records\n",
        "print(f\"Number of duplicate records: {duplicate_records.sum()}\")\n",
        "\n",
        "# Remove duplicate records\n",
        "dataset = dataset.drop_duplicates()\n",
        "\n",
        "# Display the shape of the dataset after removing duplicates\n",
        "print(f\"Dataset shape after removing duplicates: {dataset.shape}\")"
      ],
      "metadata": {
        "colab": {
          "base_uri": "https://localhost:8080/"
        },
        "id": "5sRJ78d1zmq5",
        "outputId": "62966b1c-72b2-4b05-f2e3-88ce8af0fc40"
      },
      "execution_count": 19,
      "outputs": [
        {
          "output_type": "stream",
          "name": "stdout",
          "text": [
            "Number of duplicate records: 275\n",
            "Dataset shape after removing duplicates: (467, 19)\n"
          ]
        }
      ]
    },
    {
      "cell_type": "code",
      "source": [
        "# Splitting 'Location' column into 'City' and 'State'\n",
        "dataset[['City', 'State']] = dataset['Location'].str.split(',', n=1, expand=True)\n",
        "\n",
        "# Cleaning extra spaces in 'City' and 'State'\n",
        "dataset['City'] = dataset['City'].str.strip()\n",
        "dataset['State'] = dataset['State'].str.strip()\n",
        "\n",
        "# Fill missing values in 'City' or 'State' if any\n",
        "dataset['City'] = dataset['City'].fillna('Unknown')\n",
        "dataset['State'] = dataset['State'].fillna('Unknown')\n",
        "\n",
        "# Deleting the 'Location' column\n",
        "dataset = dataset.drop(columns=['Location'])\n",
        "\n",
        "# Display the first few rows of the updated dataset\n",
        "print(dataset.head())"
      ],
      "metadata": {
        "colab": {
          "base_uri": "https://localhost:8080/"
        },
        "id": "STvr8jj_zoSy",
        "outputId": "86477bf4-4f92-482b-9ae9-4cf44a82cee5"
      },
      "execution_count": 20,
      "outputs": [
        {
          "output_type": "stream",
          "name": "stdout",
          "text": [
            "                   Job Title  Rating  \\\n",
            "0             Data Scientist     3.8   \n",
            "1  Healthcare Data Scientist     3.4   \n",
            "2             Data Scientist     4.8   \n",
            "3             Data Scientist     3.8   \n",
            "4             Data Scientist     2.9   \n",
            "\n",
            "                                 Company Name    Headquarters  \\\n",
            "0                      Tecolote Research\\n3.8      Goleta, CA   \n",
            "1  University of Maryland Medical System\\n3.4   Baltimore, MD   \n",
            "2                                KnowBe4\\n4.8  Clearwater, FL   \n",
            "3                                   PNNL\\n3.8    Richland, WA   \n",
            "4                     Affinity Solutions\\n2.9    New York, NY   \n",
            "\n",
            "                     Size  Founded   Type of ownership  \\\n",
            "0   501 to 1000 employees     1973   Company - Private   \n",
            "1        10000+ employees     1984  Other Organization   \n",
            "2   501 to 1000 employees     2010   Company - Private   \n",
            "3  1001 to 5000 employees     1965          Government   \n",
            "4     51 to 200 employees     1998   Company - Private   \n",
            "\n",
            "                           Industry                           Revenue  \\\n",
            "0               Aerospace & Defense         $50 to $100 million (USD)   \n",
            "1  Health Care Services & Hospitals            $2 to $5 billion (USD)   \n",
            "2                 Security Services        $100 to $500 million (USD)   \n",
            "3                            Energy  $500 million to $1 billion (USD)   \n",
            "4           Advertising & Marketing          Unknown / Non-Applicable   \n",
            "\n",
            "   min_salary  max_salary  avg_salary  age  python_yn  R_yn  spark  aws  \\\n",
            "0          53          91        72.0   47          1     0      0    0   \n",
            "1          63         112        87.5   36          1     0      0    0   \n",
            "2          80          90        85.0   10          1     0      1    0   \n",
            "3          56          97        76.5   55          1     0      0    0   \n",
            "4          86         143       114.5   22          1     0      0    0   \n",
            "\n",
            "   excel         City State  \n",
            "0      1  Albuquerque    NM  \n",
            "1      0    Linthicum    MD  \n",
            "2      1   Clearwater    FL  \n",
            "3      0     Richland    WA  \n",
            "4      1     New York    NY  \n"
          ]
        }
      ]
    },
    {
      "cell_type": "code",
      "source": [
        "# Function to clean the \"Size\" column, by considering average value\n",
        "def clean_size(value):\n",
        "    if value in [\"-1\", \"Unknown\"]:\n",
        "        return \"Unknown\"  # Replace both \"-1\" and \"Unknown\" with \"Unknown\"\n",
        "    elif \"to\" in value:\n",
        "        # For ranges like \"1 to 50\", calculate the mid value\n",
        "        low, high = map(int, value.replace(\"employees\", \"\").strip().split(\" to \"))\n",
        "        return (low + high) // 2\n",
        "    elif \"+\" in value:\n",
        "        # For values like \"10000+ employees\", extract the number before \"+\"\n",
        "        return int(value.replace(\"employees\", \"\").replace(\"+\", \"\").strip())\n",
        "    return value\n",
        "\n",
        "# Apply the function to the \"Size\" column\n",
        "dataset['Size'] = dataset['Size'].apply(clean_size)\n",
        "\n",
        "# Display unique cleaned values\n",
        "print(dataset['Size'].unique())"
      ],
      "metadata": {
        "colab": {
          "base_uri": "https://localhost:8080/"
        },
        "id": "Ugc-u3q_zrII",
        "outputId": "bd72035c-8d0e-42bd-b2d7-a7497a196a38"
      },
      "execution_count": 21,
      "outputs": [
        {
          "output_type": "stream",
          "name": "stdout",
          "text": [
            "[750 10000 3000 125 350 7500 25 'Unknown']\n"
          ]
        }
      ]
    },
    {
      "cell_type": "code",
      "source": [
        "# Function to clean the \"Type of ownership\" column\n",
        "def clean_ownership(ownership):\n",
        "    if ownership in [\"-1\", \"Unknown\", \"Other Organization\"]:\n",
        "        return \"Unknown\"\n",
        "    elif ownership in [\"College / University\", \"School / School District\"]:\n",
        "        return \"School or College\"\n",
        "    else:\n",
        "        return ownership  # Keep other values as they are\n",
        "\n",
        "# Apply the function to the \"Type of ownership\" column\n",
        "dataset['Type of ownership'] = dataset['Type of ownership'].apply(clean_ownership)\n",
        "\n",
        "# Display the unique values in the cleaned \"Type of ownership\" column\n",
        "print(dataset['Type of ownership'].unique())\n"
      ],
      "metadata": {
        "colab": {
          "base_uri": "https://localhost:8080/"
        },
        "id": "-jIc_p9-zusq",
        "outputId": "f9fe2ef8-4c62-4f77-8f77-6c1bc5c289d0"
      },
      "execution_count": 22,
      "outputs": [
        {
          "output_type": "stream",
          "name": "stdout",
          "text": [
            "['Company - Private' 'Unknown' 'Government' 'Company - Public' 'Hospital'\n",
            " 'Subsidiary or Business Segment' 'Nonprofit Organization'\n",
            " 'School or College']\n"
          ]
        }
      ]
    },
    {
      "cell_type": "code",
      "source": [
        "# Check for data types of each column\n",
        "print(\"\\nDataset Information:\")\n",
        "print(dataset.info())"
      ],
      "metadata": {
        "colab": {
          "base_uri": "https://localhost:8080/"
        },
        "id": "8gkuZOXRVkZT",
        "outputId": "b3e694e9-a717-4d19-8069-3e5641c7f0f6"
      },
      "execution_count": 23,
      "outputs": [
        {
          "output_type": "stream",
          "name": "stdout",
          "text": [
            "\n",
            "Dataset Information:\n",
            "<class 'pandas.core.frame.DataFrame'>\n",
            "Index: 467 entries, 0 to 735\n",
            "Data columns (total 20 columns):\n",
            " #   Column             Non-Null Count  Dtype  \n",
            "---  ------             --------------  -----  \n",
            " 0   Job Title          467 non-null    object \n",
            " 1   Rating             467 non-null    float64\n",
            " 2   Company Name       467 non-null    object \n",
            " 3   Headquarters       467 non-null    object \n",
            " 4   Size               467 non-null    object \n",
            " 5   Founded            467 non-null    int64  \n",
            " 6   Type of ownership  467 non-null    object \n",
            " 7   Industry           467 non-null    object \n",
            " 8   Revenue            467 non-null    object \n",
            " 9   min_salary         467 non-null    int64  \n",
            " 10  max_salary         467 non-null    int64  \n",
            " 11  avg_salary         467 non-null    float64\n",
            " 12  age                467 non-null    int64  \n",
            " 13  python_yn          467 non-null    int64  \n",
            " 14  R_yn               467 non-null    int64  \n",
            " 15  spark              467 non-null    int64  \n",
            " 16  aws                467 non-null    int64  \n",
            " 17  excel              467 non-null    int64  \n",
            " 18  City               467 non-null    object \n",
            " 19  State              467 non-null    object \n",
            "dtypes: float64(2), int64(9), object(9)\n",
            "memory usage: 76.6+ KB\n",
            "None\n"
          ]
        }
      ]
    },
    {
      "cell_type": "code",
      "source": [
        "# Check for missing values in the dataset\n",
        "missing_values = dataset.isnull().sum()\n",
        "\n",
        "# Display columns with missing values and their count\n",
        "print(\"Missing Values in Each Column:\")\n",
        "print(missing_values[missing_values > 0])"
      ],
      "metadata": {
        "colab": {
          "base_uri": "https://localhost:8080/"
        },
        "id": "Q3TUapg2zvzY",
        "outputId": "1f1ea600-fcb7-4775-aaf7-a2042963a60b"
      },
      "execution_count": 24,
      "outputs": [
        {
          "output_type": "stream",
          "name": "stdout",
          "text": [
            "Missing Values in Each Column:\n",
            "Series([], dtype: int64)\n"
          ]
        }
      ]
    },
    {
      "cell_type": "code",
      "source": [
        "# File path to save the updated dataset\n",
        "output_file_path = r\"/content/Cleaned_Glassdoor_Salary.csv\"\n",
        "\n",
        "# Save the dataset to the specified path\n",
        "dataset.to_csv(output_file_path, index=False)"
      ],
      "metadata": {
        "id": "9raELwCOz0JS"
      },
      "execution_count": 25,
      "outputs": []
    }
  ]
}